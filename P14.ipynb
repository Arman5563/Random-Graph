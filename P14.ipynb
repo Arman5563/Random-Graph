{
 "cells": [
  {
   "cell_type": "code",
   "execution_count": 1,
   "id": "62965291",
   "metadata": {},
   "outputs": [
    {
     "data": {
      "text/plain": [
       "<matplotlib.legend.Legend at 0x1d132a79df0>"
      ]
     },
     "execution_count": 1,
     "metadata": {},
     "output_type": "execute_result"
    },
    {
     "data": {
      "image/png": "[encoded data removed]",
      "text/plain": [
       "<Figure size 1008x288 with 1 Axes>"
      ]
     },
     "metadata": {
      "needs_background": "light"
     },
     "output_type": "display_data"
    }
   ],
   "source": [
    "import numpy as np\n",
    "import matplotlib.pyplot as mplot\n",
    "from numpy.random import default_rng\n",
    "import networkx as nx\n",
    "\n",
    "def isolation_connection(n,p,iteration):\n",
    "    connected_p=0\n",
    "    isolation=0\n",
    "    for i in range(iteration):\n",
    "        g=nx.fast_gnp_random_graph(n,p)\n",
    "        nodes=g.nodes()\n",
    "        p1=0\n",
    "        for node in nodes:\n",
    "            n1=g.neighbors(node)\n",
    "            if (len(list(n1))==0):\n",
    "                p1=p1+1/n\n",
    "        if (p1==0):\n",
    "            connected_p=connected_p+1\n",
    "        isolation=isolation+p1\n",
    "    return isolation/iteration,connected_p/iteration\n",
    "x=np.arange(10,160,10)\n",
    "connected_p=np.array([])\n",
    "isolation_p=np.array([])\n",
    "for n in x:\n",
    "    a,b=isolation_connection(n,4*np.log(n)/n,150)\n",
    "    connected_p=np.append(connected_p,[b])\n",
    "    isolation_p=np.append(isolation_p,[a])\n",
    "fig1,ax1=mplot.subplots(figsize=(14, 4))\n",
    "ax1.set_title('Results for p(n)=4*ln(n)/n')\n",
    "mplot.plot(x,connected_p,label=\"connected_p\")\n",
    "mplot.plot(x,isolation_p,label=\"isolation_p\")\n",
    "mplot.legend()"
   ]
  },
  {
   "cell_type": "code",
   "execution_count": null,
   "id": "7cb719fc",
   "metadata": {},
   "outputs": [],
   "source": []
  }
 ],
 "metadata": {
  "kernelspec": {
   "display_name": "Python 3 (ipykernel)",
   "language": "python",
   "name": "python3"
  },
  "language_info": {
   "codemirror_mode": {
    "name": "ipython",
    "version": 3
   },
   "file_extension": ".py",
   "mimetype": "text/x-python",
   "name": "python",
   "nbconvert_exporter": "python",
   "pygments_lexer": "ipython3",
   "version": "3.8.12"
  }
 },
 "nbformat": 4,
 "nbformat_minor": 5
}
