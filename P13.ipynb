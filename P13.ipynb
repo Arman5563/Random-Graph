{
 "cells": [
  {
   "cell_type": "code",
   "execution_count": 2,
   "id": "103610e0",
   "metadata": {},
   "outputs": [
    {
     "name": "stdout",
     "output_type": "stream",
     "text": [
      "(0.0, 1.0)\n"
     ]
    }
   ],
   "source": [
    "import numpy as np\n",
    "import matplotlib.pyplot as mplot\n",
    "from numpy.random import default_rng\n",
    "import networkx as nx\n",
    "\n",
    "def func1(n,p,iteration):\n",
    "    connected_p=0\n",
    "    isolation=0\n",
    "    for i in range(iteration):\n",
    "        g=nx.fast_gnp_random_graph(n,p)\n",
    "        nodes=g.nodes()\n",
    "        p1=0\n",
    "        for node in nodes:\n",
    "            n1=g.neighbors(node)\n",
    "            if (len(list(n1))==0):\n",
    "                p1=p1+1/n\n",
    "        if (p1==0):\n",
    "            connected_p=connected_p+1\n",
    "        isolation=isolation+p1\n",
    "    return isolation/iteration,connected_p/iteration\n",
    "print(func1(100,0.2,150))"
   ]
  }
 ],
 "metadata": {
  "kernelspec": {
   "display_name": "Python 3 (ipykernel)",
   "language": "python",
   "name": "python3"
  },
  "language_info": {
   "codemirror_mode": {
    "name": "ipython",
    "version": 3
   },
   "file_extension": ".py",
   "mimetype": "text/x-python",
   "name": "python",
   "nbconvert_exporter": "python",
   "pygments_lexer": "ipython3",
   "version": "3.8.12"
  }
 },
 "nbformat": 4,
 "nbformat_minor": 5
}
