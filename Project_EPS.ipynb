{
 "cells": [
  {
   "cell_type": "code",
   "execution_count": 36,
   "id": "796b9fd3",
   "metadata": {
    "scrolled": true
   },
   "outputs": [
    {
     "name": "stdout",
     "output_type": "stream",
     "text": [
      "1701.6\n"
     ]
    }
   ],
   "source": [
    "# Part 1\n",
    "\n",
    "import networkx as nx\n",
    "\n",
    "n = 1000\n",
    "repeat = 10\n",
    "p = 0.0034 \n",
    "\n",
    "s = 0\n",
    "\n",
    "for i in range(repeat):\n",
    "    G = nx.fast_gnp_random_graph(n,p)\n",
    "    s += G.number_of_edges()\n",
    "    \n",
    "print(s/repeat)\n",
    "\n"
   ]
  },
  {
   "cell_type": "code",
   "execution_count": 42,
   "id": "4ab68aeb",
   "metadata": {},
   "outputs": [
    {
     "name": "stdout",
     "output_type": "stream",
     "text": [
      "144.5\n"
     ]
    },
    {
     "data": {
      "image/png": "[encoded data removed]",
      "text/plain": [
       "<Figure size 432x288 with 1 Axes>"
      ]
     },
     "metadata": {
      "needs_background": "light"
     },
     "output_type": "display_data"
    }
   ],
   "source": [
    "# Part 2\n",
    "\n",
    "import networkx as nx\n",
    "import matplotlib.pyplot as plt\n",
    "\n",
    "n = 1000\n",
    "p = 0.00016\n",
    "repeat = 10\n",
    "\n",
    "Glist = []\n",
    "sprime = 0\n",
    "\n",
    "\n",
    "for j in range(repeat):\n",
    "    G = nx.fast_gnp_random_graph(n,p)\n",
    "    Glist.append(G)\n",
    "    \n",
    "    s = 0\n",
    "\n",
    "    for i in range(n):\n",
    "        s = s + G.degree[i]\n",
    "    L = s/n\n",
    "\n",
    "    for i in range(n):\n",
    "        if  G.degree[i] >= L :\n",
    "            sprime = sprime + 1\n",
    "print(sprime/repeat)\n",
    "\n",
    "flist = []\n",
    "xlist = []\n",
    "s = 0\n",
    "\n",
    "for i in range(n):\n",
    "    for G in Glist:\n",
    "        for j in range(n):\n",
    "            if G.degree[j] == i:\n",
    "                s = s + 1\n",
    "    if s != 0 :\n",
    "        flist.append(s/repeat)\n",
    "        xlist.append(i)\n",
    "    s = 0\n",
    "\n",
    "plt.bar(xlist,flist)\n",
    "\n",
    "for x,y in zip(xlist,flist):\n",
    "\n",
    "    label = \"{:.2f}\".format(y)\n",
    "\n",
    "    plt.annotate(label, \n",
    "                 (x,y), \n",
    "                 textcoords=\"offset points\", \n",
    "                 xytext=(0,1), \n",
    "                 ha='center')\n",
    "\n",
    "plt.xlabel('number of friends')\n",
    "\n",
    "plt.ylabel('avg people with this condition')\n",
    "\n",
    "plt.title('')\n",
    "\n",
    "plt.show()"
   ]
  },
  {
   "cell_type": "code",
   "execution_count": 52,
   "id": "785d7183",
   "metadata": {},
   "outputs": [
    {
     "name": "stdout",
     "output_type": "stream",
     "text": [
      "4492.0\n",
      "1329365.8\n"
     ]
    }
   ],
   "source": [
    "# Part 3\n",
    "\n",
    "import networkx as nx\n",
    "\n",
    "n = 3000\n",
    "p = 0.01\n",
    "repeat = 5\n",
    "\n",
    "number_of_triangles = 0\n",
    "number_of_contests = 0\n",
    "\n",
    "for m in range(repeat):\n",
    "    \n",
    "    G = nx.fast_gnp_random_graph(n,p)\n",
    "    \n",
    "    H = G.to_directed()\n",
    "    T = nx.triadic_census(H)\n",
    "\n",
    "    if '300' in T.keys():\n",
    "        number_of_triangles = number_of_triangles + T.get('300')\n",
    "    if '201' in T.keys():\n",
    "        number_of_contests = number_of_contests + T.get('201')\n",
    "\n",
    "print(number_of_triangles/repeat)\n",
    "print(number_of_contests/repeat)\n",
    "\n"
   ]
  },
  {
   "cell_type": "code",
   "execution_count": 5,
   "id": "1a66baf4",
   "metadata": {},
   "outputs": [
    {
     "name": "stdout",
     "output_type": "stream",
     "text": [
      "round 1 started!\n",
      "round 1 completed!\n",
      "round 2 started!\n",
      "round 2 completed!\n",
      "round 3 started!\n",
      "round 3 completed!\n",
      "10666854.666666666\n",
      "127907403.33333333\n"
     ]
    }
   ],
   "source": [
    "# Part 4 \n",
    "\n",
    "import networkx as nx\n",
    "\n",
    "n = 2000\n",
    "p = 0.2\n",
    "repeat = 3\n",
    "\n",
    "number_of_triangles = 0\n",
    "number_of_contests = 0\n",
    "\n",
    "for m in range(repeat):\n",
    "    \n",
    "    G = nx.fast_gnp_random_graph(n,p)\n",
    "    \n",
    "    H = G.to_directed()\n",
    "    \n",
    "    print(\"round \"+str(m+1)+\" started!\")\n",
    "    \n",
    "    T = nx.triadic_census(H)\n",
    "\n",
    "    if '300' in T.keys():\n",
    "        number_of_triangles = number_of_triangles + T.get('300')\n",
    "    if '201' in T.keys():\n",
    "        number_of_contests = number_of_contests + T.get('201')\n",
    "    \n",
    "    print(\"round \"+str(m+1)+\" completed!\")\n",
    "\n",
    "print(number_of_triangles/repeat)\n",
    "print(number_of_contests/repeat)"
   ]
  },
  {
   "cell_type": "code",
   "execution_count": 79,
   "id": "3ee1be78",
   "metadata": {},
   "outputs": [
    {
     "name": "stdout",
     "output_type": "stream",
     "text": [
      "0.012\n"
     ]
    }
   ],
   "source": [
    "# Part 5\n",
    "\n",
    "import random \n",
    "import networkx as nx\n",
    "\n",
    "n = 1000\n",
    "p = 0.003\n",
    "\n",
    "G = nx.fast_gnp_random_graph(n,p)\n",
    "\n",
    "s = 0\n",
    "\n",
    "for i in range(n):\n",
    "    s += len(list(G.subgraph(G.neighbors(i)).edges))\n",
    "    \n",
    "print(s/n)\n",
    "    \n"
   ]
  },
  {
   "cell_type": "code",
   "execution_count": 24,
   "id": "150368d1",
   "metadata": {},
   "outputs": [
    {
     "name": "stdout",
     "output_type": "stream",
     "text": [
      "10.481387387387388\n"
     ]
    }
   ],
   "source": [
    "# Part 6\n",
    "\n",
    "import networkx as nx\n",
    "\n",
    "n = 1000\n",
    "p = 0.0033\n",
    "\n",
    "G = nx.fast_gnp_random_graph(n,p)\n",
    "s = 0\n",
    "\n",
    "for i in range(n):\n",
    "    for j in range(1,n):\n",
    "        if nx.has_path(G, i, j):\n",
    "            s = s + nx.shortest_path_length(G,i,j)\n",
    "        \n",
    "print(s/(n*(n-1)/2))"
   ]
  },
  {
   "cell_type": "code",
   "execution_count": 70,
   "id": "bde999d9",
   "metadata": {},
   "outputs": [
    {
     "name": "stdout",
     "output_type": "stream",
     "text": [
      "2.77\n"
     ]
    }
   ],
   "source": [
    "# Part 7\n",
    "\n",
    "import networkx as nx\n",
    "\n",
    "n = 50\n",
    "p = 0.34\n",
    "repeat = 100\n",
    "\n",
    "s = 0\n",
    "\n",
    "for i in range(repeat):\n",
    "    G = nx.fast_gnp_random_graph(n,p)\n",
    "\n",
    "    s += nx.diameter(G)\n",
    "    \n",
    "print(s/repeat)"
   ]
  },
  {
   "cell_type": "code",
   "execution_count": 100,
   "id": "d9e1f452",
   "metadata": {
    "scrolled": true
   },
   "outputs": [
    {
     "data": {
      "image/png": "[encoded data removed]",
      "text/plain": [
       "<Figure size 432x288 with 1 Axes>"
      ]
     },
     "metadata": {
      "needs_background": "light"
     },
     "output_type": "display_data"
    }
   ],
   "source": [
    "# Part 8\n",
    "\n",
    "import networkx as nx\n",
    "import numpy as np\n",
    "import matplotlib.pyplot as plt\n",
    "\n",
    "a = 10\n",
    "b = 200\n",
    "step = 10\n",
    "n = np.arange(a, b + step, step).tolist()\n",
    "p = 0.34\n",
    "repeat = 100\n",
    "\n",
    "s = 0\n",
    "diaList = []\n",
    "\n",
    "for nprime in  n:\n",
    "\n",
    "    for j in range(repeat):\n",
    "        G = nx.fast_gnp_random_graph(nprime,p)\n",
    "        \n",
    "        if not nx.is_connected(G):\n",
    "            maxL = 0\n",
    "            for Gprime in nx.connected_components(G):\n",
    "                diag = nx.diameter(G.subgraph(Gprime))\n",
    "                if diag > maxL:\n",
    "                    maxL = diag\n",
    "            s+=maxL\n",
    "        else :\n",
    "            s += nx.diameter(G)\n",
    "\n",
    "    diaList.append(s/repeat)\n",
    "    s = 0 \n",
    "\n",
    "plt.plot(n,diaList)\n",
    "plt.ylabel('mean diameter')\n",
    "plt.xlabel('$n$')\n",
    "plt.show()\n"
   ]
  }
 ],
 "metadata": {
  "kernelspec": {
   "display_name": "Python 3 (ipykernel)",
   "language": "python",
   "name": "python3"
  },
  "language_info": {
   "codemirror_mode": {
    "name": "ipython",
    "version": 3
   },
   "file_extension": ".py",
   "mimetype": "text/x-python",
   "name": "python",
   "nbconvert_exporter": "python",
   "pygments_lexer": "ipython3",
   "version": "3.8.12"
  }
 },
 "nbformat": 4,
 "nbformat_minor": 5
}
