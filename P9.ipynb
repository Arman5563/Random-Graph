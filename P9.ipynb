{
 "cells": [
  {
   "cell_type": "code",
   "execution_count": 3,
   "id": "0bc4e0bb",
   "metadata": {},
   "outputs": [
    {
     "name": "stdout",
     "output_type": "stream",
     "text": [
      "6355.59\n"
     ]
    }
   ],
   "source": [
    "import numpy as np\n",
    "import matplotlib.pyplot as mplot\n",
    "from numpy.random import default_rng\n",
    "import networkx as nx\n",
    "\n",
    "def mean_triangles(n,p,iteration):\n",
    "    c=0\n",
    "    for i in range(iteration):\n",
    "        g=nx.fast_gnp_random_graph(n,p)\n",
    "        nodes=g.nodes()\n",
    "        for node in nodes:\n",
    "            c=c+nx.triangles(g,node)\n",
    "    return c/(3*iteration)\n",
    "print(mean_triangles(100,0.34,100))"
   ]
  },
  {
   "cell_type": "code",
   "execution_count": null,
   "id": "81d01a60",
   "metadata": {},
   "outputs": [],
   "source": []
  }
 ],
 "metadata": {
  "kernelspec": {
   "display_name": "Python 3 (ipykernel)",
   "language": "python",
   "name": "python3"
  },
  "language_info": {
   "codemirror_mode": {
    "name": "ipython",
    "version": 3
   },
   "file_extension": ".py",
   "mimetype": "text/x-python",
   "name": "python",
   "nbconvert_exporter": "python",
   "pygments_lexer": "ipython3",
   "version": "3.8.12"
  }
 },
 "nbformat": 4,
 "nbformat_minor": 5
}
