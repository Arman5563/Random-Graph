{
 "cells": [
  {
   "cell_type": "code",
   "execution_count": 2,
   "id": "66087306",
   "metadata": {},
   "outputs": [
    {
     "data": {
      "text/plain": [
       "(0, 1, 34.0)"
      ]
     },
     "execution_count": 2,
     "metadata": {},
     "output_type": "execute_result"
    }
   ],
   "source": [
    "import numpy as np\n",
    "import matplotlib.pyplot as mplot\n",
    "from numpy.random import default_rng\n",
    "import networkx as nx\n",
    "\n",
    "def func1(n,p,iteration):\n",
    "    for i in range(iteration):\n",
    "        g=nx.fast_gnp_random_graph(n,p)\n",
    "        nodes=g.nodes()\n",
    "        p1=0\n",
    "        p2=0\n",
    "        c=0\n",
    "        for node in nodes:\n",
    "            c=c+nx.triangles(g,node)\n",
    "            n1=g.neighbors(node)\n",
    "            if (len(list(n1))==0):\n",
    "                p=p+1/n\n",
    "    if (nx.is_connected(g)):#we can use the number of disconnected nodes (zero or non-zero)\n",
    "        p2=p2+1\n",
    "    return p1,p2,c/3\n",
    "func1(10,0.34,100)"
   ]
  },
  {
   "cell_type": "code",
   "execution_count": null,
   "id": "9ad3e85b",
   "metadata": {},
   "outputs": [],
   "source": []
  }
 ],
 "metadata": {
  "kernelspec": {
   "display_name": "Python 3 (ipykernel)",
   "language": "python",
   "name": "python3"
  },
  "language_info": {
   "codemirror_mode": {
    "name": "ipython",
    "version": 3
   },
   "file_extension": ".py",
   "mimetype": "text/x-python",
   "name": "python",
   "nbconvert_exporter": "python",
   "pygments_lexer": "ipython3",
   "version": "3.8.12"
  }
 },
 "nbformat": 4,
 "nbformat_minor": 5
}
